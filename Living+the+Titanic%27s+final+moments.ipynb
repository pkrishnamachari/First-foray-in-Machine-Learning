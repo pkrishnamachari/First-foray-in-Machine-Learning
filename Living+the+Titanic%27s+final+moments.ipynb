{
 "cells": [
  {
   "cell_type": "markdown",
   "metadata": {},
   "source": [
    "# Did Men had a higher chances of mortality in Titanic?\n",
    "\n",
    "This project analyses the titanic data using python dataframe and other functionalities. There are many legends and assumptions over the years. Some of the assumptions or bias were based on Hollywood movie and other legend. I would like to test some of the assumption based on the sample data provided.\n"
   ]
  },
  {
   "cell_type": "markdown",
   "metadata": {},
   "source": [
    "\n",
    "\n",
    "# Load the data from the CSV file"
   ]
  },
  {
   "cell_type": "code",
   "execution_count": 204,
   "metadata": {
    "collapsed": true
   },
   "outputs": [],
   "source": [
    "import pandas as pd\n",
    "\n",
    "titanicdata_df = pd.read_csv('titanic-data.csv')"
   ]
  },
  {
   "cell_type": "code",
   "execution_count": 205,
   "metadata": {
    "collapsed": true
   },
   "outputs": [],
   "source": [
    "# Total number of data\n",
    "\n",
    "titanicdata_df.count()\n",
    "total_passengers = len(titanicdata_df)"
   ]
  },
  {
   "cell_type": "markdown",
   "metadata": {},
   "source": [
    "# Data wrangling and extracting key data\n",
    "\n",
    "In the first analysis, I would like to explore the different titles from the names. For doing this, I would like to split the names to extract the titles and store it in the data frame. I have printed out the unique titles to have a view."
   ]
  },
  {
   "cell_type": "code",
   "execution_count": 206,
   "metadata": {
    "collapsed": true,
    "scrolled": true
   },
   "outputs": [],
   "source": [
    "# Extract the titles from the names and count the number of Royalities like Mme, Countess etc and added the column \n",
    "# title in the data\n",
    "names_df = pd.DataFrame()\n",
    "if 'Title' not in titanicdata_df.columns:\n",
    "    names_df['Name']= titanicdata_df['Name'].astype(str)\n",
    "    title = names_df['Name'].str.split(',', 0).str[1].str.split('.',1).str[0]\n",
    "    titanicdata_df.insert(loc=3,column= 'Title',value = title)"
   ]
  },
  {
   "cell_type": "markdown",
   "metadata": {},
   "source": [
    "# Get Unique Titles from the names"
   ]
  },
  {
   "cell_type": "code",
   "execution_count": 207,
   "metadata": {},
   "outputs": [
    {
     "data": {
      "text/plain": [
       "array([' Mr', ' Mrs', ' Miss', ' Master', ' Don', ' Rev', ' Dr', ' Mme',\n",
       "       ' Ms', ' Major', ' Lady', ' Sir', ' Mlle', ' Col', ' Capt',\n",
       "       ' the Countess', ' Jonkheer'], dtype=object)"
      ]
     },
     "execution_count": 207,
     "metadata": {},
     "output_type": "execute_result"
    }
   ],
   "source": [
    "title.unique()"
   ]
  },
  {
   "cell_type": "markdown",
   "metadata": {},
   "source": [
    "The title does not give sufficient data to purse if the Royalties survived the distaster conclusively. It was a good investigation and data wrangling exercise"
   ]
  },
  {
   "cell_type": "markdown",
   "metadata": {},
   "source": [
    "# The Data Analysis of the various parameters linking the mortality"
   ]
  },
  {
   "cell_type": "code",
   "execution_count": 208,
   "metadata": {
    "collapsed": true
   },
   "outputs": [],
   "source": [
    "# Define the various parameters for analysis: survivors, dead, number by class, male and female. The class here \n",
    "# represents social division which may have existed based on the ticket class.\n",
    "\n",
    "survived = titanicdata_df['Survived'] == 1 # Passengers who survived\n",
    "died = titanicdata_df['Survived'] == 0 # Passesngers who died\n",
    "class3 = titanicdata_df['Pclass'] == 3 # Passengers from 3rd class\n",
    "class2 = titanicdata_df['Pclass'] == 2 # Passengers from 2nd class\n",
    "class1 = titanicdata_df['Pclass'] == 1 # Passengers from 1st class\n",
    "male   = titanicdata_df['Sex'] == 'male' # Male passengers\n",
    "female = titanicdata_df['Sex'] == 'female' # Female passengers\n",
    "nocabin = titanicdata_df['Cabin'] ==  'None'\n",
    "family_siblings = titanicdata_df['SibSp'] != 0\n",
    "family_children = titanicdata_df['Parch'] != 0\n",
    "family = family_siblings | family_children # Define family based on the famly size.\n",
    "children = titanicdata_df['Age'] < 18 # Child passengers - here defined as under 18"
   ]
  },
  {
   "cell_type": "markdown",
   "metadata": {},
   "source": [
    "The next data wrangling done was to define the family based on the criteria if there are siblings or children defined in the data. The two data flags used were SibSP and Parch to count the family size."
   ]
  },
  {
   "cell_type": "markdown",
   "metadata": {},
   "source": [
    "# Passenger distribution in the data set"
   ]
  },
  {
   "cell_type": "code",
   "execution_count": 209,
   "metadata": {
    "scrolled": true
   },
   "outputs": [
    {
     "data": {
      "image/png": "[encoded data removed]",
      "text/plain": [
       "<matplotlib.figure.Figure at 0x11d0b48d0>"
      ]
     },
     "metadata": {},
     "output_type": "display_data"
    }
   ],
   "source": [
    "%matplotlib inline\n",
    "\n",
    "import numpy as np\n",
    "import pandas as pd\n",
    "import matplotlib.pyplot as plt\n",
    "\n",
    "width = 0.3\n",
    "total_pop = [total_men, total_women, total_child]\n",
    "index = len(total_pop)\n",
    "x = [u' ',u'Total Men', u' ', u'Total Women',u' ',u'Total Child']\n",
    "ind = np.arange(len(total_pop)) \n",
    "fig, ax = plt.subplots()\n",
    "plt.title(\"Proportion of Total Passengers by Category\")\n",
    "plt.bar(ind, total_pop, width, color=\"green\")\n",
    "ax.set_xticklabels(x)\n",
    "plt.show()"
   ]
  },
  {
   "cell_type": "markdown",
   "metadata": {},
   "source": [
    "# Total number of passengers who died"
   ]
  },
  {
   "cell_type": "code",
   "execution_count": 210,
   "metadata": {
    "collapsed": true
   },
   "outputs": [],
   "source": [
    "# Total Number of passgenger in the data\n",
    "\n",
    "total_passengers = len(titanicdata_df)\n",
    "# Total passengers who died\n",
    "\n",
    "total_died = len(titanicdata_df[died])\n",
    "total_survived = len(titanicdata_df[survived])\n"
   ]
  },
  {
   "cell_type": "markdown",
   "metadata": {},
   "source": [
    "# Total number of male passenger "
   ]
  },
  {
   "cell_type": "code",
   "execution_count": 211,
   "metadata": {
    "collapsed": true,
    "scrolled": true
   },
   "outputs": [],
   "source": [
    "# total number of males \n",
    "\n",
    "total_men = len(titanicdata_df[male])"
   ]
  },
  {
   "cell_type": "markdown",
   "metadata": {},
   "source": [
    "# Proportion of total number of men compared to the total passengers"
   ]
  },
  {
   "cell_type": "code",
   "execution_count": 212,
   "metadata": {
    "collapsed": true
   },
   "outputs": [],
   "source": [
    "p_men = round(float(total_men)/float(total_passengers),2)\n"
   ]
  },
  {
   "cell_type": "markdown",
   "metadata": {},
   "source": [
    "# Total Number of male passengers who died"
   ]
  },
  {
   "cell_type": "code",
   "execution_count": 213,
   "metadata": {
    "collapsed": true,
    "scrolled": true
   },
   "outputs": [],
   "source": [
    "# Total number of males who died\n",
    "\n",
    "dead_men =  len(titanicdata_df[died & male])\n",
    "\n",
    "# Proportion of dead men in the population\n",
    "\n",
    "p_dead_men = round(float(dead_men)/float(total_passengers),2)"
   ]
  },
  {
   "cell_type": "markdown",
   "metadata": {},
   "source": [
    "# Total Number of male passengers died by class"
   ]
  },
  {
   "cell_type": "code",
   "execution_count": 214,
   "metadata": {
    "collapsed": true
   },
   "outputs": [],
   "source": [
    "# Total number of males who died by class (representing the social class)\n",
    "\n",
    "titanicdata_df[died & male].count()\n",
    "dead_men =  len(titanicdata_df[died & male])\n",
    "\n",
    "# Proportion of dead men in the population\n",
    "\n",
    "p_dead_men = round(float(dead_men)/float(total_passengers),4)\n",
    "\n",
    "men_first = len(titanicdata_df[died & male & class1])\n",
    "men_second = len(titanicdata_df[died & male & class2])\n",
    "men_third = len(titanicdata_df[died & male & class3])\n",
    "\n",
    "# Proportion of dead men by class of the total men\n",
    "p_men_first = round(float(men_first)/float(dead_men),4)\n",
    "p_men_second = round(float(men_second)/float(dead_men),4)\n",
    "p_men_third = round(float(men_third)/float(dead_men),4)"
   ]
  },
  {
   "cell_type": "markdown",
   "metadata": {},
   "source": [
    "# Total number of female passengers"
   ]
  },
  {
   "cell_type": "code",
   "execution_count": 215,
   "metadata": {
    "collapsed": true,
    "scrolled": true
   },
   "outputs": [],
   "source": [
    "# Total number of female\n",
    "\n",
    "total_women = len(titanicdata_df[female])"
   ]
  },
  {
   "cell_type": "markdown",
   "metadata": {},
   "source": [
    "# Number of women who died"
   ]
  },
  {
   "cell_type": "code",
   "execution_count": 216,
   "metadata": {
    "collapsed": true
   },
   "outputs": [],
   "source": [
    "# Total number of women who died\n",
    "\n",
    "titanicdata_df[died & female].count()\n",
    "dead_women =  len(titanicdata_df[died & female])\n",
    "\n",
    "# Proportion of dead women in the population\n",
    "\n",
    "p_dead_women = round(float(dead_women)/float(total_passengers),4)"
   ]
  },
  {
   "cell_type": "code",
   "execution_count": 217,
   "metadata": {
    "collapsed": true
   },
   "outputs": [],
   "source": [
    "# Total number of children\n",
    "\n",
    "total_child = len(titanicdata_df[children])"
   ]
  },
  {
   "cell_type": "markdown",
   "metadata": {},
   "source": [
    "# Number of Children who died"
   ]
  },
  {
   "cell_type": "code",
   "execution_count": 218,
   "metadata": {
    "collapsed": true,
    "scrolled": true
   },
   "outputs": [],
   "source": [
    "# Total number of children who died\n",
    "\n",
    "titanicdata_df[died & children].count()\n",
    "dead_child =  len(titanicdata_df[died & children])\n",
    "\n",
    "# Proportion of dead children in the population\n",
    "\n",
    "p_dead_child = round(float(dead_child)/float(total_passengers),4)"
   ]
  },
  {
   "cell_type": "code",
   "execution_count": 219,
   "metadata": {},
   "outputs": [
    {
     "name": "stdout",
     "output_type": "stream",
     "text": [
      "36\n"
     ]
    }
   ],
   "source": [
    "# Total number of children died who were traveling with parents\n",
    "\n",
    "total_ch_family = len(titanicdata_df[died & children & family_children])\n",
    "print total_ch_family"
   ]
  },
  {
   "cell_type": "code",
   "execution_count": 220,
   "metadata": {
    "scrolled": false
   },
   "outputs": [
    {
     "name": "stdout",
     "output_type": "stream",
     "text": [
      "179\n"
     ]
    }
   ],
   "source": [
    "# Total number of family members who survived. \n",
    "\n",
    "titanicdata_df[survived & family].describe()\n",
    "total_fam_survived = len(titanicdata_df[survived & family])\n",
    "print total_fam_survived"
   ]
  },
  {
   "cell_type": "code",
   "execution_count": 221,
   "metadata": {},
   "outputs": [
    {
     "data": {
      "text/plain": [
       "PassengerId    354\n",
       "Survived       354\n",
       "Pclass         354\n",
       "Title          354\n",
       "Name           354\n",
       "Sex            354\n",
       "Age            310\n",
       "SibSp          354\n",
       "Parch          354\n",
       "Ticket         354\n",
       "Fare           354\n",
       "Cabin          110\n",
       "Embarked       354\n",
       "dtype: int64"
      ]
     },
     "execution_count": 221,
     "metadata": {},
     "output_type": "execute_result"
    }
   ],
   "source": [
    "# Total number of family members\n",
    "titanicdata_df[family].count()"
   ]
  },
  {
   "cell_type": "code",
   "execution_count": 222,
   "metadata": {
    "scrolled": true
   },
   "outputs": [
    {
     "data": {
      "image/png": "[encoded data removed]",
      "text/plain": [
       "<matplotlib.figure.Figure at 0x11cc7bcd0>"
      ]
     },
     "metadata": {},
     "output_type": "display_data"
    }
   ],
   "source": [
    "# Plot basic mortality data distribution\n",
    "\n",
    "%matplotlib inline\n",
    "\n",
    "import numpy as np\n",
    "import pandas as pd\n",
    "import matplotlib.pyplot as plt\n",
    "\n",
    "hist_data = dead_men, dead_women, dead_child\n",
    "ind = len(hist_data)\n",
    "Labels = [\"Men\",\"Women\",\"Children\"]\n",
    "plt.title(\"Mortality by passenger group\")\n",
    "plt.plot(hist_data,\"o\")\n",
    "plt.xlabel(\"Dead Passengers - Men, Women, Children\")\n",
    "plt.show()"
   ]
  },
  {
   "cell_type": "code",
   "execution_count": 223,
   "metadata": {
    "scrolled": true
   },
   "outputs": [
    {
     "data": {
      "image/png": "[encoded data removed]",
      "text/plain": [
       "<matplotlib.figure.Figure at 0x11d2e1c50>"
      ]
     },
     "metadata": {},
     "output_type": "display_data"
    }
   ],
   "source": [
    "# Representing all the proportions in a dataframe\n",
    "prop_all = p_dead_men, p_men_first,p_men_second ,p_men_third, p_dead_women, p_dead_child\n",
    "\n",
    "%matplotlib inline\n",
    "\n",
    "import numpy as np\n",
    "import pandas as pd\n",
    "import matplotlib.pyplot as plt\n",
    "\n",
    "width = 0.8\n",
    "index = len(prop_all)\n",
    "x = [u' ', u'Men',u'Men-Ist', u'Men-IInd', u'Men-IIIrd', u'Women', u'Children']\n",
    "ind = np.arange(len(prop_all)) \n",
    "fig, ax = plt.subplots()\n",
    "plt.title(\"Proportion of dead passengers by category\")\n",
    "plt.bar(ind, prop_all, width, color=\"blue\")\n",
    "ax.set_xticklabels(x)\n",
    "plt.show()"
   ]
  },
  {
   "cell_type": "markdown",
   "metadata": {},
   "source": [
    "The following are the high level summary of the data:\n",
    "    \n",
    "1. The proportion men who died is significantly higher than the proportion of women and children. This needs to be ascertained as there are clearly more number of men than women and children.\n",
    "2. There is no significant difference in the mortality rate of women and children\n",
    "3. There are significantly higher number of men who died in the 3rd class \n",
    "4. There is no significant difference in the proportion of the men who died between the second and the third class\n",
    "\n",
    "Some of the key computational considerations are as follows.\n",
    "\n",
    "1. The proportion of total fatalities by catagories were computed with the total population. For example, proportion of total men who died was calculated as total men died/total number of people. Similarly for Women and Children, this is to make test an assumption that everyone in the titanic had an equal chance of survival.\n",
    "2. The proportion of the men by class was taken against the total population of men. For example, proportion of fatalities in the first class was against the total fatalities of men. This is to test the assumption that people in the higer class clearly had better chance of survival\n",
    "\n",
    "\n",
    "I will use statisitical inference test to validate some of the hypothesis. For this, I will be using the one sample test using proportions:\n",
    "z = (p-sam - p0)/sqrt(p0*(1-p0)/n)"
   ]
  },
  {
   "cell_type": "code",
   "execution_count": 224,
   "metadata": {},
   "outputs": [
    {
     "name": "stdout",
     "output_type": "stream",
     "text": [
      "(0.5253, 0.1645, 0.1944, 0.641, 0.0909, 0.0584)\n"
     ]
    }
   ],
   "source": [
    "print prop_all"
   ]
  },
  {
   "cell_type": "markdown",
   "metadata": {},
   "source": [
    "# Survivor Statistics "
   ]
  },
  {
   "cell_type": "markdown",
   "metadata": {},
   "source": [
    "I would also like to look at the survivor statistics to get an understanding of survivor statistics."
   ]
  },
  {
   "cell_type": "code",
   "execution_count": 225,
   "metadata": {
    "collapsed": true
   },
   "outputs": [],
   "source": [
    "# Total men who survived\n",
    "sur_men =  len(titanicdata_df[survived & male])\n",
    "\n",
    "# Total women who survived\n",
    "sur_women = len(titanicdata_df[survived & female])\n",
    "\n",
    "# Total children who survived\n",
    "sur_child = len(titanicdata_df[survived & children])\n"
   ]
  },
  {
   "cell_type": "markdown",
   "metadata": {},
   "source": [
    "# Plot the survivor dataset "
   ]
  },
  {
   "cell_type": "code",
   "execution_count": 226,
   "metadata": {
    "scrolled": true
   },
   "outputs": [
    {
     "data": {
      "image/png": "[encoded data removed]",
      "text/plain": [
       "<matplotlib.figure.Figure at 0x11cf69a90>"
      ]
     },
     "metadata": {},
     "output_type": "display_data"
    }
   ],
   "source": [
    "%matplotlib inline\n",
    "\n",
    "import numpy as np\n",
    "import pandas as pd\n",
    "import matplotlib.pyplot as plt\n",
    "\n",
    "Total_Survivor_Data = total_men, sur_men, total_women, sur_women, total_child, sur_child\n",
    "width = 0.85\n",
    "index = len(prop_all)\n",
    "x = [u' ', u'Total Men',u'Men Survived', u'Total Women', u'Women Surv', u'Total Children', u'Child Surv']\n",
    "ind = np.arange(len(prop_all)) \n",
    "fig, ax = plt.subplots()\n",
    "plt.title(\"Proportion of Total passengers by category\")\n",
    "\n",
    "plt.bar(ind, Total_Survivor_Data, width, color=\"blue\")\n",
    "ax.set_xticklabels(x, fontsize=8)\n",
    "plt.show()"
   ]
  },
  {
   "cell_type": "markdown",
   "metadata": {},
   "source": [
    "Analyising the survivor statistics, there is a clear indication that significantly less number of men survived compared to the others. However, in terms of absolute value the numbers of survivors are nearly the same across all categories. It will be interesting to analyse the data in detail to ascertain if there are significantly different number of mortality rates statistically."
   ]
  },
  {
   "cell_type": "markdown",
   "metadata": {},
   "source": [
    "# Function to calculate z value given the proportion probability"
   ]
  },
  {
   "cell_type": "code",
   "execution_count": 227,
   "metadata": {
    "collapsed": true
   },
   "outputs": [],
   "source": [
    "# Define a function to determine the z value based on\n",
    "# the proportion value from the sample, proportion value for the test and sample size\n",
    "import math\n",
    "def zStats(p_value,p_ref_value,n):\n",
    "    z = (p_value - p_ref_value)/math.sqrt(p_ref_value*(1-p_ref_value)/n)\n",
    "    return z\n"
   ]
  },
  {
   "cell_type": "markdown",
   "metadata": {},
   "source": [
    "# Hypothesis Tesing"
   ]
  },
  {
   "cell_type": "markdown",
   "metadata": {},
   "source": [
    "Hypothesis 1: There is an equal likelihood for the mortality rate for men compared to women or child.\n",
    "\n",
    "H0: proportion of men dying is equal to average: p_value = p_ref_value\n",
    "\n",
    "H1: proportion of men dying is not equal to the average: p_value != p_ref_value\n",
    "\n",
    "We will use the α value at 95% confidence interval for the test. The value for the z distribution is 1.96. \n",
    "\n",
    "For the first test, I will assume that men have an equal likelihood of mortality and hence there is a 50% of chance of survival, p_ref_value = 0.5.\n",
    "\n",
    "I will perform the corresponding hypothesis test based on these values"
   ]
  },
  {
   "cell_type": "code",
   "execution_count": 228,
   "metadata": {
    "collapsed": true,
    "scrolled": true
   },
   "outputs": [],
   "source": [
    "# Call the zStats function for the following values:\n",
    "# p_value = p_dead_men; p_ref_value = 0.50 and n= total_passengers\n",
    "\n",
    "p_ref_value = 0.50\n",
    "n = total_passengers\n",
    "zValue = round(zStats(p_dead_men,p_ref_value,n),4)"
   ]
  },
  {
   "cell_type": "code",
   "execution_count": 229,
   "metadata": {},
   "outputs": [
    {
     "name": "stdout",
     "output_type": "stream",
     "text": [
      "0.5253\n",
      "1.5104\n"
     ]
    }
   ],
   "source": [
    "print p_dead_men\n",
    "print zValue"
   ]
  },
  {
   "cell_type": "markdown",
   "metadata": {
    "collapsed": true
   },
   "source": [
    "The z Value in the first test is 1.5104 is much below 1.96 which clearly validates the Null hypothesis. Based on this, there is a equal likelihood of the mortality rate of Men, Women and Children irrespective of the proportion size. This will be validated in the later tests if the higher proportion is due to higher proportion of men in the population."
   ]
  },
  {
   "cell_type": "markdown",
   "metadata": {},
   "source": [
    "# Hypothesis 2"
   ]
  },
  {
   "cell_type": "markdown",
   "metadata": {},
   "source": [
    "Hypothesis 2: In this I would like to test if women have any higher likelihood than the average.\n",
    "\n",
    "H0: proportion of women dying is equal to average: p_value = p_ref_value\n",
    "\n",
    "H1: proportion of women dying is not equal to average: p_value != p_ref_value\n",
    "\n",
    "We will use the α value at 95% confidence interval for the test. The value for the z distribution is 1.96. For the first test, I will assume that men have an equal likelihood of mortality amongst the three groups - Men, Women and Children. The p_ref_value = 0.3333.\n",
    "\n"
   ]
  },
  {
   "cell_type": "code",
   "execution_count": 230,
   "metadata": {
    "collapsed": true
   },
   "outputs": [],
   "source": [
    "# Calculate z Value for the dead women\n",
    "p_ref_value = 0.3333\n",
    "n= total_passengers\n",
    "zValue = round(zStats(p_dead_women,p_ref_value,n),4)"
   ]
  },
  {
   "cell_type": "code",
   "execution_count": 231,
   "metadata": {},
   "outputs": [
    {
     "name": "stdout",
     "output_type": "stream",
     "text": [
      "-15.3493\n"
     ]
    }
   ],
   "source": [
    "print zValue"
   ]
  },
  {
   "cell_type": "markdown",
   "metadata": {},
   "source": [
    "This assumes that every one has an equal likelihood of mortality. However there are clearly more men than women and children. I would like to test with a proportion appropriate to the population since more number of men may skew the results of the Null hypothesis before. "
   ]
  },
  {
   "cell_type": "markdown",
   "metadata": {},
   "source": [
    "The z Value of -15.3493 is well below the α value and hence the mortality rate for women is clearly on the average."
   ]
  },
  {
   "cell_type": "markdown",
   "metadata": {},
   "source": [
    "# Testing for the correct population distribution."
   ]
  },
  {
   "cell_type": "markdown",
   "metadata": {},
   "source": [
    "Although distinctly, men have clearly higher mortality rate in general. This was under the assumption that the mortality is equal amongst men, women and children. I would like to test if there is any change due to the population difference. In this case, the proportion of men dying will be weighed as per the population distribution.\n",
    "\n",
    "Based on the distribution, the p_ref_value will be based on the corresponding population numbers."
   ]
  },
  {
   "cell_type": "code",
   "execution_count": 232,
   "metadata": {
    "collapsed": true
   },
   "outputs": [],
   "source": [
    "# The proportion of men, women and children based on their population number\n",
    "\n",
    "p_ref_val_men = round(float(dead_men)/float(total_men),4)\n",
    "p_ref_val_women = round(float(dead_women)/float(total_women),4)\n",
    "p_ref_val_child = round(float(dead_child)/float(total_child),4)"
   ]
  },
  {
   "cell_type": "code",
   "execution_count": 233,
   "metadata": {},
   "outputs": [
    {
     "name": "stdout",
     "output_type": "stream",
     "text": [
      "0.8111\n",
      "0.258\n",
      "0.4602\n"
     ]
    }
   ],
   "source": [
    "print p_ref_val_men\n",
    "print p_ref_val_women\n",
    "print p_ref_val_child"
   ]
  },
  {
   "cell_type": "markdown",
   "metadata": {},
   "source": [
    "# z Value for the different normalised population"
   ]
  },
  {
   "cell_type": "code",
   "execution_count": 234,
   "metadata": {
    "scrolled": true
   },
   "outputs": [
    {
     "name": "stdout",
     "output_type": "stream",
     "text": [
      "-17.5387\n",
      "-6.7675\n",
      "-8.5696\n"
     ]
    }
   ],
   "source": [
    "# Calculate z value of the normalised population\n",
    "z_men = round(zStats(p_dead_men,p_ref_val_men,total_men),4)\n",
    "z_women = round(zStats(p_dead_women,p_ref_val_women,total_women),4)\n",
    "z_child =  round(zStats(p_dead_child,p_ref_val_child,total_child),4)\n",
    "print z_men\n",
    "print z_women\n",
    "print z_child"
   ]
  },
  {
   "cell_type": "markdown",
   "metadata": {},
   "source": [
    "The z_men value of -17.5387 completely matches with the previous results and we will accept the null hypothesis. The mortality of men is well within the statistical limits based on the proportion of men. There is no clear evidence from the data set that women and children were given precedence."
   ]
  },
  {
   "cell_type": "markdown",
   "metadata": {},
   "source": [
    "The z Women of -6.7675 and z Children of -8.5696 is clearly well within the z value and hence the null hypothesis can be accepted."
   ]
  },
  {
   "cell_type": "markdown",
   "metadata": {},
   "source": [
    "# Hypothesis 3"
   ]
  },
  {
   "cell_type": "markdown",
   "metadata": {},
   "source": [
    "In this I would like to test if men in the third class have higher than average mortality rate than men. For this the propulation is only men for the consideration and the proportion will be correspoding to dead men in the three classes.\n",
    "\n",
    "H0: proportion of men dying in the 3rd class is equal to average proportion, p_men_third = p_ref_value\n",
    "\n",
    "H1: proportion of men dying in the 3rd class is not equal to average proportion, p_men_third != p_ref_value. \n",
    "\n",
    "The p_ref_value in the men's population is 0.3333. "
   ]
  },
  {
   "cell_type": "code",
   "execution_count": 235,
   "metadata": {
    "collapsed": true
   },
   "outputs": [],
   "source": [
    "# Calculate the z Value for the 3rd class\n",
    "\n",
    "p_ref_value = 0.3333\n",
    "n = total_men\n",
    "zValue = round(zStats(p_men_third,p_ref_value,n),4)"
   ]
  },
  {
   "cell_type": "code",
   "execution_count": 236,
   "metadata": {
    "scrolled": true
   },
   "outputs": [
    {
     "name": "stdout",
     "output_type": "stream",
     "text": [
      "15.6795\n"
     ]
    }
   ],
   "source": [
    "print zValue"
   ]
  },
  {
   "cell_type": "markdown",
   "metadata": {},
   "source": [
    "Again the z value of 15.6795 is well above the α and hence we can reject the null hypothesis and accept the alternate hypothesis. The value is well above the α value which sunstantiates that people in 3rd class have a higher mortality rate than people in Ist or IInd class."
   ]
  },
  {
   "cell_type": "markdown",
   "metadata": {},
   "source": [
    "I would also like to test the z Value for second class to ascertain if the chances are different."
   ]
  },
  {
   "cell_type": "code",
   "execution_count": 237,
   "metadata": {
    "collapsed": true
   },
   "outputs": [],
   "source": [
    "# Calculate the z Value for the IInd class\n",
    "\n",
    "p_ref_value = 0.3333\n",
    "n = total_men\n",
    "zValue = round(zStats(p_men_second,p_ref_value,n),4)"
   ]
  },
  {
   "cell_type": "code",
   "execution_count": 238,
   "metadata": {},
   "outputs": [
    {
     "name": "stdout",
     "output_type": "stream",
     "text": [
      "-7.0779\n"
     ]
    }
   ],
   "source": [
    "print zValue"
   ]
  },
  {
   "cell_type": "markdown",
   "metadata": {},
   "source": [
    "The z value of -7.0779 is well under the α value and we can accept the null hypothesis. There are no visible changes for people traveling in 2nd class."
   ]
  },
  {
   "cell_type": "markdown",
   "metadata": {
    "collapsed": true
   },
   "source": [
    "# Summary of Data Analysis"
   ]
  },
  {
   "cell_type": "markdown",
   "metadata": {
    "collapsed": true
   },
   "source": [
    "The titanic sample dataset of around 891 users were a good mix of how the various factors may or may not have influenced the mortality of the passengers in the final moments of the disaster.  The few key findings are:\n",
    "    \n",
    "1. There is no statistically observed difference for the major categories: men, women and children. All had an equal likelihood of survival in terms of absolute numbers.\n",
    "2. There is a clear mortality difference in the class traveled amongst men, men in 3rd class certainly had a higher mortality rate than men in 2nd or 1st class. This could well indicate a social structure or any other cause which may have resulted in more men dying in class 3 vs class 1 or 2.\n",
    "3. The data does not have any statistical insights if there are clear cases of children being rescued more than others. The data does not show any statistical difference.\n",
    "\n"
   ]
  },
  {
   "cell_type": "markdown",
   "metadata": {
    "collapsed": true
   },
   "source": [
    "# References"
   ]
  },
  {
   "cell_type": "markdown",
   "metadata": {},
   "source": [
    "1. www.kaggle.com - Overview of the Titanic dataset\n",
    "2. www.stackoverflow.com for general help on Python programming and debugging help"
   ]
  }
 ],
 "metadata": {
  "kernelspec": {
   "display_name": "Python 2",
   "language": "python",
   "name": "python2"
  },
  "language_info": {
   "codemirror_mode": {
    "name": "ipython",
    "version": 2
   },
   "file_extension": ".py",
   "mimetype": "text/x-python",
   "name": "python",
   "nbconvert_exporter": "python",
   "pygments_lexer": "ipython2",
   "version": "2.7.13"
  }
 },
 "nbformat": 4,
 "nbformat_minor": 2
}
